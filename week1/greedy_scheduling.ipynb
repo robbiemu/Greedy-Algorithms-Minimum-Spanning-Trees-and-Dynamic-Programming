{
 "cells": [
  {
   "cell_type": "code",
   "execution_count": 296,
   "source": [
    "import sys\n",
    "sys.path.append('.')\n",
    "sys.path.append('..')\n",
    "from problem_loader import ProblemLoader\n",
    "\n",
    "data_urls = {\n",
    "    'problem1': 'https://d18ky98rnyall9.cloudfront.net/_642c2ce8f3abe387bdff636d708cdb26_jobs.txt?Expires=1625529600&Signature=QmEamSrf0MFV9m8NE5eH~weE5dNNJWleeHo9QnAOhresliYeMu948KWiNArVvzDn1DhoMGSlY-uO3GlRzU418py7QoquFJXNA4QXN~g~p4Q7fS-7OpkcUmU-OVJtoKm-SltmyQfVE76EFhDG-t05kws33MdSgXxOLhnCNUZG0g0_&Key-Pair-Id=APKAJLTNE6QMUY6HBC5A',\n",
    "    'problem3': 'https://d18ky98rnyall9.cloudfront.net/_d4f3531eac1d289525141e95a2fea52f_edges.txt?Expires=1625529600&Signature=PxVrUw09ecIY8BGWqppgINObH5JYQOZysdO5zi0HxFP8iLaipSf97e4epMQoYwvGU~bzSl7TvrCtAOn72EKdsyeJmV45fp~CBydTwwwjfD7X587TX3Gyyg1LrwNKp-pX9gI-q~IS1rhR20Sh5x8UXYfgvX6EUGwU-GKRzzlZI9o_&Key-Pair-Id=APKAJLTNE6QMUY6HBC5A'\n",
    "}"
   ],
   "outputs": [],
   "metadata": {}
  },
  {
   "cell_type": "markdown",
   "source": [
    "## Problem 1\n",
    "\n",
    "This file describes a set of jobs with positive and integral weights and lengths.  It has the format\n",
    "\n",
    "```\n",
    "[number_of_jobs]\n",
    "\n",
    "[job_1_weight] [job_1_length]\n",
    "\n",
    "[job_2_weight] [job_2_length]\n",
    "\n",
    "...\n",
    "```\n",
    "\n",
    "For example, the third line of the file is \"74 59\", indicating that the second job has weight 74 and length 59.\n",
    "\n",
    "You should NOT assume that edge weights or lengths are distinct.\n",
    "\n",
    "Your task in this problem is to run the greedy algorithm that schedules jobs in decreasing order of the difference (weight - length).  Recall from lecture that this algorithm is not always optimal.  \n",
    "\n",
    "## IMPORTANT: \n",
    "if two jobs have equal difference (weight - length), you should schedule the job with higher weight first.  Beware: if you break ties in a different way, you are likely to get the wrong answer.  You should report the sum of weighted completion times of the resulting schedule --- a positive integer --- in the box below. \n",
    "\n",
    "## ADVICE: \n",
    "If you get the wrong answer, try out some small test cases to debug your algorithm (and post your test cases to the discussion forum).\n",
    "\n"
   ],
   "metadata": {}
  },
  {
   "cell_type": "code",
   "execution_count": 297,
   "source": [
    "def process_graph(data):\n",
    "  return [list(map(int, n.decode(\"utf-8\").split(' '))) for n in data.split(b'\\n') if len(n.decode(\"utf-8\").split(' ')) > 1]\n"
   ],
   "outputs": [],
   "metadata": {}
  },
  {
   "cell_type": "code",
   "execution_count": 298,
   "source": [
    "values = ProblemLoader(\n",
    "    data_urls['problem1'], \n",
    "    fname=\"weighted-graph.p\", \n",
    "    preprocessor=process_graph\n",
    ").fetch()\n",
    "print(values[:10])"
   ],
   "outputs": [
    {
     "output_type": "stream",
     "name": "stdout",
     "text": [
      "[[8, 50], [74, 59], [31, 73], [45, 79], [24, 10], [41, 66], [93, 43], [88, 4], [28, 30], [41, 13]]\n"
     ]
    }
   ],
   "metadata": {}
  },
  {
   "cell_type": "code",
   "execution_count": 299,
   "source": [
    "from collections import namedtuple\n",
    "Job = namedtuple('Job', ['weight', 'length', 'index'])\n",
    "PrioritizedItem = namedtuple('PrioritizedItem', ['priority', 'item'])\n",
    "\n",
    "jobs = [Job(weight=arr[0], length=arr[1], index=i) for i, arr in enumerate(values)]\n",
    "\n",
    "def get_weighted_completion_times(jobs):\n",
    "  \"\"\"\n",
    "  The completion time $C_j(\\sigma)$ of a job $j$ in a schedule $\\sigma$ is the sum of the lengths \n",
    "  of the jobs preceding $j$ in $\\sigma$, plus the length of $j$ itself. \n",
    "  \"\"\"\n",
    "  cumulative_lengths = 0\n",
    "  weighted_completion_times = 0\n",
    "  for job in jobs:\n",
    "    cumulative_lengths += job.length\n",
    "    weighted_completion_times += job.weight * cumulative_lengths\n",
    "  return weighted_completion_times\n"
   ],
   "outputs": [],
   "metadata": {}
  },
  {
   "cell_type": "code",
   "execution_count": 308,
   "source": [
    "def GreedyDiff(jobs):\n",
    "  priorities = [PrioritizedItem(priority=job.weight - job.length - 1/(job.weight + 1), item=job) for job in jobs]\n",
    "    \n",
    "  priorities.sort(key=lambda s: s.priority, reverse=True)\n",
    "  return [pj.item for pj in priorities]\n",
    "  #return [prioritized_job[1] for prioritized_job in priorities]\n",
    "\n",
    "get_weighted_completion_times(GreedyDiff(jobs))"
   ],
   "outputs": [
    {
     "output_type": "execute_result",
     "data": {
      "text/plain": [
       "69119377652"
      ]
     },
     "metadata": {},
     "execution_count": 308
    }
   ],
   "metadata": {}
  },
  {
   "cell_type": "markdown",
   "source": [
    "## Problem 2\n",
    "Your task now is to run the greedy algorithm that schedules jobs (optimally) in decreasing order of the ratio (weight/length).  In this algorithm, it does not matter how you break ties.  You should report the sum of weighted completion times of the resulting schedule --- a positive integer ---\n",
    "\n"
   ],
   "metadata": {}
  },
  {
   "cell_type": "code",
   "execution_count": 301,
   "source": [
    "def GreedyRatio(jobs):\n",
    "  priorities = [PrioritizedItem(priority=job.weight / job.length, item=job) for job in jobs]\n",
    "    \n",
    "  priorities.sort(key=lambda s: s.priority, reverse=True)\n",
    "  return [pj.item for pj in priorities]\n",
    "\n",
    "get_weighted_completion_times(GreedyRatio(jobs))"
   ],
   "outputs": [
    {
     "output_type": "execute_result",
     "data": {
      "text/plain": [
       "67311454237"
      ]
     },
     "metadata": {},
     "execution_count": 301
    }
   ],
   "metadata": {}
  },
  {
   "cell_type": "code",
   "execution_count": 311,
   "source": [
    "\"\"\"\n",
    "the class information suggests that [[2,4],[4,2],[3,1]] should compute a **weighted** completion time of 15. \n",
    "however, this is the **unweighted** completion time. discussions in the forum gave other sames to test against,\n",
    "shown below, however I am not finding their numbers no matter how I test.\n",
    "\"\"\"\n",
    "try: \n",
    "    if __test__:\n",
    "      def test_case(input, expected_diff, expected_ratio):\n",
    "        jobs = [Job(weight=arr[0], length=arr[1], index=i) for i, arr in enumerate(input)]\n",
    "\n",
    "        d = GreedyDiff(jobs) \n",
    "        try:\n",
    "          res = get_weighted_completion_times(d)\n",
    "          assert res == expected_diff, f'[Scheduler greedy difference] {res} not equal to {expected_diff}'\n",
    "        except AssertionError as err:\n",
    "          print(err, d)\n",
    "\n",
    "        r = GreedyRatio(jobs)\n",
    "        try:\n",
    "          res = get_weighted_completion_times(r)\n",
    "          assert res == expected_ratio, f'[Scheduler ratio difference] {res} not equal to {expected_ratio}'\n",
    "        except AssertionError as err:\n",
    "          print(err, r)\n",
    "\n",
    "      test = [[3, 1],[2, 4],[4, 2]]\n",
    "      test_case(test, 31, 29)\n",
    "\n",
    "      test = [[2,3],[4,5],[9,2],[11,5],[11,5]] \n",
    "      test_case(test, 335, 335)\n",
    "\n",
    "      test = [[2, 1], [3, 2], [4, 3], [2, 3]]\n",
    "      test_case(test, 57, 53)\n",
    "\n",
    "      test = [[1, 2], [1, 3], [1, 4]]\n",
    "      test_case(test, 16, 16)\n",
    "\n",
    "      test = [[8, 50], [74, 59], [31, 73], [45, 79], [24, 10], [41, 66]]\n",
    "      test_case(test, 32780, 32104)\n",
    "except:\n",
    "  print('skipping tests as __test__ was not defined')"
   ],
   "outputs": [],
   "metadata": {}
  },
  {
   "cell_type": "markdown",
   "source": [
    "## Problem 3\n",
    "In this programming problem you'll code up Prim's minimum spanning tree algorithm.\n",
    "\n",
    "This file describes an undirected graph with integer edge costs.  It has the format\n",
    "\n",
    "```\n",
    "[number_of_nodes] [number_of_edges]\n",
    "\n",
    "[one_node_of_edge_1] [other_node_of_edge_1] [edge_1_cost]\n",
    "\n",
    "[one_node_of_edge_2] [other_node_of_edge_2] [edge_2_cost]\n",
    "\n",
    "...\n",
    "```\n",
    "\n",
    "For example, the third line of the file is \"2 3 -8874\", indicating that there is an edge connecting vertex #2 and vertex #3 that has cost -8874. \n",
    "\n",
    "You should NOT assume that edge costs are positive, nor should you assume that they are distinct.\n",
    "\n",
    "Your task is to run Prim's minimum spanning tree algorithm on this graph.  You should report the overall cost of a minimum spanning tree --- an integer, which may or may not be negative --- in the box below. \n",
    "\n",
    "### IMPLEMENTATION NOTES: \n",
    "This graph is small enough that the straightforward O(mn) time implementation of Prim's algorithm should work fine. \n",
    "\n",
    "### OPTIONAL: \n",
    "For those of you seeking an additional challenge, try implementing a heap-based version. The simpler approach, which should already give you a healthy speed-up, is to maintain relevant edges in a heap (with keys = edge costs).  The superior approach stores the unprocessed vertices in the heap, as described in lecture.  Note this requires a heap that supports deletions, and you'll probably need to maintain some kind of mapping between vertices and their positions in the heap."
   ],
   "metadata": {}
  },
  {
   "cell_type": "code",
   "execution_count": 312,
   "source": [
    "import random\n",
    "from heapq import heappush, heappop, heapify\n",
    "from collections import defaultdict\n",
    "\n",
    "Edge = namedtuple('Edge', ['left', 'right', 'cost'])\n",
    "Adjacency = namedtuple('Adjacency', ['to', 'cost'])\n",
    "\n",
    "def process_weighted_edges(data):\n",
    "  v = []\n",
    "  for edge in data.split(b'\\n'):\n",
    "    sa = edge.decode('utf-8').split(' ')\n",
    "    if len(sa) > 2:\n",
    "        v.append(Edge(left=int(sa[0]), right=int(sa[1]), cost=int(sa[2])))\n",
    "  return v"
   ],
   "outputs": [],
   "metadata": {}
  },
  {
   "cell_type": "code",
   "execution_count": 304,
   "source": [
    "p3 = ProblemLoader(\n",
    "    data_urls['problem3'], \n",
    "    fname=\"undirected-edges.p\", \n",
    "    preprocessor=process_weighted_edges\n",
    ").fetch()\n",
    "print(p3[:10])"
   ],
   "outputs": [
    {
     "output_type": "stream",
     "name": "stdout",
     "text": [
      "[Edge(left=1, right=2, cost=6807), Edge(left=2, right=3, cost=-8874), Edge(left=3, right=4, cost=-1055), Edge(left=4, right=5, cost=4414), Edge(left=5, right=6, cost=1728), Edge(left=6, right=7, cost=-2237), Edge(left=7, right=8, cost=-7507), Edge(left=8, right=9, cost=7990), Edge(left=9, right=10, cost=-5012), Edge(left=10, right=11, cost=7353)]\n"
     ]
    }
   ],
   "metadata": {}
  },
  {
   "cell_type": "markdown",
   "source": [
    "### Prim's Algorithm\n",
    "#### Input: \n",
    "  connected undirected graph $G = (V,E)$ in adjacency-list representation and a cost $c_e$ \n",
    "  for each edge $e \\in E$.  \n",
    "####  Output: \n",
    "  the edges of a _minimum spanning tree_ of $G$. \n",
    "### Initialization  \n",
    "----\n",
    "  $X := \\{s\\}$ `// s is an arbitrarily chosen vertex`\n",
    "  \n",
    "  $T := \\empty$ `// invariant: the edges in T span X`\n",
    "  \n",
    "### Main loop  \n",
    "----\n",
    "  <span style='font-family:monospace'>while there is an edge</span> $(v, w)$ <span style='font-family:monospace'>with</span> $v \\in X$, $w \\notin X$ <span style='font-family:monospace'>do</span>\n",
    "\n",
    "  &nbsp;  $(v^*, w^*) :=$ <span style='font-family:monospace'>a minimum-cost such edge</span>\n",
    "\n",
    "  &nbsp;  <span style='font-family:monospace'>add vertex</span> $w^*$ <span style='font-family:monospace'>to</span> $X$\n",
    "\n",
    "  &nbsp;  <span style='font-family:monospace'>add edge</span> $(v^*, w^*)$ <span style='font-family:monospace'>to</span> $T$\n",
    "\n",
    "  <span style='font-family:monospace'>return</span> $T$ "
   ],
   "metadata": {}
  },
  {
   "cell_type": "code",
   "execution_count": 314,
   "source": [
    "def Prim(graph):\n",
    "  s = random.choice(list(graph.keys())) # s is an arbitrarily chosen vertex\n",
    "\n",
    "  X = set([s])\n",
    "  T = set()\n",
    "\n",
    "  def get_candidate():\n",
    "    candidates = []\n",
    "    heapify(candidates)\n",
    "    for left in X: # while...(with v in x)...\n",
    "      for adjacency in graph[left]: #...there is an edge (v,w)...\n",
    "        if adjacency.to not in X: # ...and w not in X\n",
    "          heappush(candidates, (adjacency.cost, (left, adjacency.to))) # keep a pair of costs and \n",
    "    if len(candidates) > 0:\n",
    "      cost, (v_star, w_star) = heappop(candidates) # a minimum-cost such edge\n",
    "      return Edge(left=v_star, right=w_star, cost=cost)\n",
    "\n",
    "  while edge_star := get_candidate():\n",
    "    X.add(edge_star.right) # add w* to X\n",
    "    T.add(edge_star) # add edge to T\n",
    "  return T\n",
    "    \n",
    "graph = defaultdict(list)\n",
    "for r in p3:\n",
    "  graph[r.left].append( Adjacency(to=r.right, cost=r.cost) )\n",
    "  graph[r.right].append( Adjacency(to=r.left, cost=r.cost) )\n",
    "\n",
    "sum([edge.cost for edge in Prim(graph)])\n",
    "#-3612829"
   ],
   "outputs": [
    {
     "output_type": "error",
     "ename": "KeyboardInterrupt",
     "evalue": "",
     "traceback": [
      "\u001b[0;31m---------------------------------------------------------------------------\u001b[0m",
      "\u001b[0;31mKeyboardInterrupt\u001b[0m                         Traceback (most recent call last)",
      "\u001b[0;32m<ipython-input-314-0c1d5487af6d>\u001b[0m in \u001b[0;36m<module>\u001b[0;34m\u001b[0m\n\u001b[1;32m     26\u001b[0m   \u001b[0mgraph\u001b[0m\u001b[0;34m[\u001b[0m\u001b[0mr\u001b[0m\u001b[0;34m.\u001b[0m\u001b[0mright\u001b[0m\u001b[0;34m]\u001b[0m\u001b[0;34m.\u001b[0m\u001b[0mappend\u001b[0m\u001b[0;34m(\u001b[0m \u001b[0mAdjacency\u001b[0m\u001b[0;34m(\u001b[0m\u001b[0mto\u001b[0m\u001b[0;34m=\u001b[0m\u001b[0mr\u001b[0m\u001b[0;34m.\u001b[0m\u001b[0mleft\u001b[0m\u001b[0;34m,\u001b[0m \u001b[0mcost\u001b[0m\u001b[0;34m=\u001b[0m\u001b[0mr\u001b[0m\u001b[0;34m.\u001b[0m\u001b[0mcost\u001b[0m\u001b[0;34m)\u001b[0m \u001b[0;34m)\u001b[0m\u001b[0;34m\u001b[0m\u001b[0;34m\u001b[0m\u001b[0m\n\u001b[1;32m     27\u001b[0m \u001b[0;34m\u001b[0m\u001b[0m\n\u001b[0;32m---> 28\u001b[0;31m \u001b[0msum\u001b[0m\u001b[0;34m(\u001b[0m\u001b[0;34m[\u001b[0m\u001b[0medge\u001b[0m\u001b[0;34m.\u001b[0m\u001b[0mcost\u001b[0m \u001b[0;32mfor\u001b[0m \u001b[0medge\u001b[0m \u001b[0;32min\u001b[0m \u001b[0mPrim\u001b[0m\u001b[0;34m(\u001b[0m\u001b[0mgraph\u001b[0m\u001b[0;34m)\u001b[0m\u001b[0;34m]\u001b[0m\u001b[0;34m)\u001b[0m\u001b[0;34m\u001b[0m\u001b[0;34m\u001b[0m\u001b[0m\n\u001b[0m\u001b[1;32m     29\u001b[0m \u001b[0;31m#-3612829\u001b[0m\u001b[0;34m\u001b[0m\u001b[0;34m\u001b[0m\u001b[0;34m\u001b[0m\u001b[0m\n",
      "\u001b[0;32m<ipython-input-314-0c1d5487af6d>\u001b[0m in \u001b[0;36mPrim\u001b[0;34m(graph)\u001b[0m\n\u001b[1;32m     16\u001b[0m       \u001b[0;32mreturn\u001b[0m \u001b[0mEdge\u001b[0m\u001b[0;34m(\u001b[0m\u001b[0mleft\u001b[0m\u001b[0;34m=\u001b[0m\u001b[0mv_star\u001b[0m\u001b[0;34m,\u001b[0m \u001b[0mright\u001b[0m\u001b[0;34m=\u001b[0m\u001b[0mw_star\u001b[0m\u001b[0;34m,\u001b[0m \u001b[0mcost\u001b[0m\u001b[0;34m=\u001b[0m\u001b[0mcost\u001b[0m\u001b[0;34m)\u001b[0m\u001b[0;34m\u001b[0m\u001b[0;34m\u001b[0m\u001b[0m\n\u001b[1;32m     17\u001b[0m \u001b[0;34m\u001b[0m\u001b[0m\n\u001b[0;32m---> 18\u001b[0;31m   \u001b[0;32mwhile\u001b[0m \u001b[0medge_star\u001b[0m \u001b[0;34m:=\u001b[0m \u001b[0mget_candidate\u001b[0m\u001b[0;34m(\u001b[0m\u001b[0;34m)\u001b[0m\u001b[0;34m:\u001b[0m\u001b[0;34m\u001b[0m\u001b[0;34m\u001b[0m\u001b[0m\n\u001b[0m\u001b[1;32m     19\u001b[0m     \u001b[0mX\u001b[0m\u001b[0;34m.\u001b[0m\u001b[0madd\u001b[0m\u001b[0;34m(\u001b[0m\u001b[0medge_star\u001b[0m\u001b[0;34m.\u001b[0m\u001b[0mright\u001b[0m\u001b[0;34m)\u001b[0m \u001b[0;31m# add w* to X\u001b[0m\u001b[0;34m\u001b[0m\u001b[0;34m\u001b[0m\u001b[0m\n\u001b[1;32m     20\u001b[0m     \u001b[0mT\u001b[0m\u001b[0;34m.\u001b[0m\u001b[0madd\u001b[0m\u001b[0;34m(\u001b[0m\u001b[0medge_star\u001b[0m\u001b[0;34m)\u001b[0m \u001b[0;31m# add edge to T\u001b[0m\u001b[0;34m\u001b[0m\u001b[0;34m\u001b[0m\u001b[0m\n",
      "\u001b[0;32m<ipython-input-314-0c1d5487af6d>\u001b[0m in \u001b[0;36mget_candidate\u001b[0;34m()\u001b[0m\n\u001b[1;32m      7\u001b[0m   \u001b[0mcandidates\u001b[0m \u001b[0;34m=\u001b[0m \u001b[0;34m[\u001b[0m\u001b[0;34m]\u001b[0m\u001b[0;34m\u001b[0m\u001b[0;34m\u001b[0m\u001b[0m\n\u001b[1;32m      8\u001b[0m   \u001b[0;32mdef\u001b[0m \u001b[0mget_candidate\u001b[0m\u001b[0;34m(\u001b[0m\u001b[0;34m)\u001b[0m\u001b[0;34m:\u001b[0m\u001b[0;34m\u001b[0m\u001b[0;34m\u001b[0m\u001b[0m\n\u001b[0;32m----> 9\u001b[0;31m     \u001b[0mheapify\u001b[0m\u001b[0;34m(\u001b[0m\u001b[0mcandidates\u001b[0m\u001b[0;34m)\u001b[0m\u001b[0;34m\u001b[0m\u001b[0;34m\u001b[0m\u001b[0m\n\u001b[0m\u001b[1;32m     10\u001b[0m     \u001b[0;32mfor\u001b[0m \u001b[0mleft\u001b[0m \u001b[0;32min\u001b[0m \u001b[0mX\u001b[0m\u001b[0;34m:\u001b[0m \u001b[0;31m# while...(with v in x)...\u001b[0m\u001b[0;34m\u001b[0m\u001b[0;34m\u001b[0m\u001b[0m\n\u001b[1;32m     11\u001b[0m       \u001b[0;32mfor\u001b[0m \u001b[0madjacency\u001b[0m \u001b[0;32min\u001b[0m \u001b[0mgraph\u001b[0m\u001b[0;34m[\u001b[0m\u001b[0mleft\u001b[0m\u001b[0;34m]\u001b[0m\u001b[0;34m:\u001b[0m \u001b[0;31m#...there is an edge (v,w)...\u001b[0m\u001b[0;34m\u001b[0m\u001b[0;34m\u001b[0m\u001b[0m\n",
      "\u001b[0;31mKeyboardInterrupt\u001b[0m: "
     ]
    }
   ],
   "metadata": {}
  },
  {
   "cell_type": "code",
   "execution_count": 306,
   "source": [
    "\"\"\"tests\"\"\"\n",
    "try: \n",
    "  if __test__:\n",
    "    def test_case(input, expected):\n",
    "      test = [Edge(left=edge[0], right=edge[1], cost=edge[2]) for edge in input]\n",
    "\n",
    "      graph = defaultdict(list)\n",
    "      for r in test:\n",
    "        graph[r.left].append( Adjacency(to=r.right, cost=r.cost) )\n",
    "        graph[r.right].append( Adjacency(to=r.left, cost=r.cost) )\n",
    "\n",
    "      res = Prim(graph)\n",
    "      received = sum([edge.cost for edge in res])\n",
    "\n",
    "      try:\n",
    "        assert received == expected, f'[test -- MST: {expected}] {received} ≠ {expected}'\n",
    "      except AssertionError as err:\n",
    "        print(err, res)\n",
    "        return\n",
    "\n",
    "      print(f'[test -- MST: {expected}] passed')\n",
    "    # test overall cost of MST: 7\n",
    "    expected = 7\n",
    "    input = [[1, 2, 1], [2, 4, 2], [3, 1, 4], [4, 3, 5], [4, 1, 3]]\n",
    "    test_case(input, expected)\n",
    "\n",
    "    expected = 3\n",
    "    input = [[1, 2, 4], [1, 4, 3], [2, 3, 2], [2, 4, -1], [2, 5, 4], [3, 5, -2], [4, 5, 5], [4, 6, 4], [5, 6, 1]]\n",
    "    test_case(input, expected)\n",
    "except:\n",
    "  print('skipping tests as __test__ was not defined')"
   ],
   "outputs": [
    {
     "output_type": "stream",
     "name": "stdout",
     "text": [
      "skipping tests as __test__ was not defined\n"
     ]
    }
   ],
   "metadata": {}
  },
  {
   "cell_type": "markdown",
   "source": [
    "### Heap-based Prim\n",
    "#### Input: \n",
    "connected undirected graph $G$ = $(V,E)$ in  adjacency-list representation and a cost $c_e$ for each  edge $e \\in E$.  \n",
    "#### Output: \n",
    "the edges of a minimum spanning tree of $G$.  \n",
    "### Initialization\n",
    "----\n",
    "1 $X := \\{s\\}, T = \\empty, H :=$ empty heap  \n",
    "2 for every $v \\neq s$ do  \n",
    "3 &nbsp;  if there is an edge $(s, v) \\in E$ then  \n",
    "4 &nbsp;&nbsp;  $key(v) := c_{sv}$, $winner(v) := (s, v)$  \n",
    "5 &nbsp;  else `// v has no crossing incident edges`  \n",
    "6 &nbsp;&nbsp;  $key(v) := +\\infty$, $winner(v) :=$ NULL  \n",
    "7 &nbsp;&nbsp;  Insert $v$ into $H$  \n",
    "&nbsp;  `// Main loop`  \n",
    "8 while $H$ is non-empty do  \n",
    "9 &nbsp;  $w^* :=$ ExtractMin($H$)  \n",
    "10 &nbsp;  add $w^*$ to $X$  \n",
    "11 &nbsp;  add $winner(w^*)$ to $T$  \n",
    "&nbsp;&nbsp;  `// update keys to maintain invariant`   \n",
    "12 &nbsp;  for every edge $(w^*, y)$ with $y \\in V - X$ do  \n",
    "13 &nbsp;&nbsp;  if $c_{w^*y} < key(y)$ then  \n",
    "14 &nbsp;&nbsp;  Delete $y$ from $H$  \n",
    "15 &nbsp;&nbsp;  $key(y) := c_{w^*y}, winner(y) := (w^*, y)$  \n",
    "16 &nbsp;&nbsp;  Insert $y$ into $H$  \n",
    "17 return $T$  "
   ],
   "metadata": {}
  }
 ],
 "metadata": {
  "orig_nbformat": 4,
  "language_info": {
   "name": "python"
  }
 },
 "nbformat": 4,
 "nbformat_minor": 2
}