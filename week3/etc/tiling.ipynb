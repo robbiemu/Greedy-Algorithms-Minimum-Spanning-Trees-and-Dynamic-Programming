{
 "cells": [
  {
   "cell_type": "code",
   "execution_count": null,
   "source": [],
   "outputs": [],
   "metadata": {}
  },
  {
   "cell_type": "markdown",
   "source": [
    "# The tiling problem that derailed me\n",
    "\n",
    "A year ago I applied for a job where the second coding interview I was asked the following question. I only had about 35 minutes to solve this problem. I identified the correct approach but failed to sufficiently demonstrate the implementation in order to progress. It has been on the back of my mind, and is the reason I determined to take these courses from Stanford/Coursera. This week, we finally covered the topic of dynamic programming, and so we can begin.\n",
    "\n",
    "## problem definition\n",
    "\n",
    "Given a rectangular surface whose side lengths are natural numbers, provide the minimum number of squares whose side lengths also are natural numbers, needed to cover the surface.\n",
    "\n",
    "No examples were given and I had to explore that space in the same interview, but here I just want to provide the problem directly. A great presentation of this problem is here: https://leetcode.com/problems/tiling-a-rectangle-with-the-fewest-squares/\n",
    "\n",
    "### examples:\n",
    "> surface: 4x2\n",
    "> tiles: 2x2, 2x2 => 2\n",
    "\n",
    "> surface: 4x3\n",
    "> tiles: 3x3, 1x1, 1x1, 1x1\n",
    "> 2x2 2x2 1x1 1x1 1x1 1x1\n",
    "> => 4\n",
    "\n",
    "\n"
   ],
   "metadata": {}
  },
  {
   "cell_type": "code",
   "execution_count": null,
   "source": [
    "\"\"\"this is the simple euclidean approach that I iterated through successfully, but was noted as insufficient\"\"\"\n",
    "@memoize \n",
    "def min_tiles_simple(v,h):\n",
    "    \"\"\"if m and n are equal, return 1\"\"\"\n",
    "    if v == h:\n",
    "        return 1\n",
    "\n",
    "    return min({ min_tiles(v,i) + min_tiles(v,h-1) for i in range(1,h//2 + 1) } \n",
    "      | { min_tiles(i, h) + min_tiles(v-i,h) for i in range(1,v//2 + 1) })"
   ],
   "outputs": [],
   "metadata": {}
  },
  {
   "cell_type": "code",
   "execution_count": 3,
   "source": [
    "\"\"\"this variant is the version that derailed me\"\"\"\n",
    "from math import inf\n",
    "from functools import cache as memoize\n",
    "\n",
    "@memoize \n",
    "def min_tiles(v,h):\n",
    "    \"\"\"if m and n are equal, return 1\"\"\"\n",
    "    if v == h:\n",
    "        return 1\n",
    "\n",
    "    more = v if v > h else h\n",
    "    less = v if v < h else h\n",
    "\n",
    "    if less == 1:\n",
    "        return more\n",
    "\n",
    "    if less == 0:\n",
    "        return 0\n",
    "\n",
    "    \"\"\"cut the square of side i from the rectangle. test the pairs of rectangles in the remaining L shape\"\"\"   \n",
    "    min_corner = 1 + min({ min(min_tiles(more,less - i) + min_tiles(more - i, i),\n",
    "        min_tiles(more - i, less) + min_tiles(more - i, less - i)) for i in range(1,less + 1)})\n",
    "    min_divisor = min({ min_tiles(v,i) + min_tiles(v,h-1) for i in range(1,h//2 + 1) }\n",
    "        | { min_tiles(i, h) + min_tiles(v-i,h) for i in range(1,v//2 + 1) })\n",
    "    return min(min_corner, min_divisor)\n"
   ],
   "outputs": [],
   "metadata": {}
  },
  {
   "cell_type": "code",
   "execution_count": 4,
   "source": [
    "def case(v,h, expected, fn=min_tiles):\n",
    "  n = fn(v,h)\n",
    "  assert n == expected, f\"expected {expected}, received {n}\"\n",
    "\n",
    "case(4,4, expected=1)\n",
    "case(2,3, expected=3)\n",
    "case(5,8, expected=5)\n",
    "case(11,13, expected=6)\n",
    "#case(25,23, expected=8)\n",
    "#case(31,23, expected=8)\n",
    "#case(53,45, expected=9)\n",
    "#case(54,29, expected=10)\n",
    "#case(59,53, expected=1§)"
   ],
   "outputs": [
    {
     "output_type": "error",
     "ename": "AssertionError",
     "evalue": "expected 6, received 7",
     "traceback": [
      "\u001b[0;31m---------------------------------------------------------------------------\u001b[0m",
      "\u001b[0;31mAssertionError\u001b[0m                            Traceback (most recent call last)",
      "\u001b[0;32m<ipython-input-4-7f33ef46525b>\u001b[0m in \u001b[0;36m<module>\u001b[0;34m\u001b[0m\n\u001b[1;32m      6\u001b[0m \u001b[0mcase\u001b[0m\u001b[0;34m(\u001b[0m\u001b[0;36m2\u001b[0m\u001b[0;34m,\u001b[0m\u001b[0;36m3\u001b[0m\u001b[0;34m,\u001b[0m \u001b[0mexpected\u001b[0m\u001b[0;34m=\u001b[0m\u001b[0;36m3\u001b[0m\u001b[0;34m)\u001b[0m\u001b[0;34m\u001b[0m\u001b[0;34m\u001b[0m\u001b[0m\n\u001b[1;32m      7\u001b[0m \u001b[0mcase\u001b[0m\u001b[0;34m(\u001b[0m\u001b[0;36m5\u001b[0m\u001b[0;34m,\u001b[0m\u001b[0;36m8\u001b[0m\u001b[0;34m,\u001b[0m \u001b[0mexpected\u001b[0m\u001b[0;34m=\u001b[0m\u001b[0;36m5\u001b[0m\u001b[0;34m)\u001b[0m\u001b[0;34m\u001b[0m\u001b[0;34m\u001b[0m\u001b[0m\n\u001b[0;32m----> 8\u001b[0;31m \u001b[0mcase\u001b[0m\u001b[0;34m(\u001b[0m\u001b[0;36m11\u001b[0m\u001b[0;34m,\u001b[0m\u001b[0;36m13\u001b[0m\u001b[0;34m,\u001b[0m \u001b[0mexpected\u001b[0m\u001b[0;34m=\u001b[0m\u001b[0;36m6\u001b[0m\u001b[0;34m)\u001b[0m\u001b[0;34m\u001b[0m\u001b[0;34m\u001b[0m\u001b[0m\n\u001b[0m\u001b[1;32m      9\u001b[0m \u001b[0;31m#case(25,23, expected=8)\u001b[0m\u001b[0;34m\u001b[0m\u001b[0;34m\u001b[0m\u001b[0;34m\u001b[0m\u001b[0m\n\u001b[1;32m     10\u001b[0m \u001b[0;31m#case(31,23, expected=8)\u001b[0m\u001b[0;34m\u001b[0m\u001b[0;34m\u001b[0m\u001b[0;34m\u001b[0m\u001b[0m\n",
      "\u001b[0;32m<ipython-input-4-7f33ef46525b>\u001b[0m in \u001b[0;36mcase\u001b[0;34m(v, h, expected)\u001b[0m\n\u001b[1;32m      1\u001b[0m \u001b[0;32mdef\u001b[0m \u001b[0mcase\u001b[0m\u001b[0;34m(\u001b[0m\u001b[0mv\u001b[0m\u001b[0;34m,\u001b[0m\u001b[0mh\u001b[0m\u001b[0;34m,\u001b[0m \u001b[0mexpected\u001b[0m\u001b[0;34m)\u001b[0m\u001b[0;34m:\u001b[0m\u001b[0;34m\u001b[0m\u001b[0;34m\u001b[0m\u001b[0m\n\u001b[1;32m      2\u001b[0m   \u001b[0mn\u001b[0m \u001b[0;34m=\u001b[0m \u001b[0mmin_tiles\u001b[0m\u001b[0;34m(\u001b[0m\u001b[0mv\u001b[0m\u001b[0;34m,\u001b[0m\u001b[0mh\u001b[0m\u001b[0;34m)\u001b[0m\u001b[0;34m\u001b[0m\u001b[0;34m\u001b[0m\u001b[0m\n\u001b[0;32m----> 3\u001b[0;31m   \u001b[0;32massert\u001b[0m \u001b[0mn\u001b[0m \u001b[0;34m==\u001b[0m \u001b[0mexpected\u001b[0m\u001b[0;34m,\u001b[0m \u001b[0;34mf\"expected {expected}, received {n}\"\u001b[0m\u001b[0;34m\u001b[0m\u001b[0;34m\u001b[0m\u001b[0m\n\u001b[0m\u001b[1;32m      4\u001b[0m \u001b[0;34m\u001b[0m\u001b[0m\n\u001b[1;32m      5\u001b[0m \u001b[0mcase\u001b[0m\u001b[0;34m(\u001b[0m\u001b[0;36m4\u001b[0m\u001b[0;34m,\u001b[0m\u001b[0;36m4\u001b[0m\u001b[0;34m,\u001b[0m \u001b[0mexpected\u001b[0m\u001b[0;34m=\u001b[0m\u001b[0;36m1\u001b[0m\u001b[0;34m)\u001b[0m\u001b[0;34m\u001b[0m\u001b[0;34m\u001b[0m\u001b[0m\n",
      "\u001b[0;31mAssertionError\u001b[0m: expected 6, received 7"
     ]
    }
   ],
   "metadata": {}
  }
 ],
 "metadata": {
  "orig_nbformat": 4,
  "language_info": {
   "name": "python",
   "version": "3.9.1",
   "mimetype": "text/x-python",
   "codemirror_mode": {
    "name": "ipython",
    "version": 3
   },
   "pygments_lexer": "ipython3",
   "nbconvert_exporter": "python",
   "file_extension": ".py"
  },
  "kernelspec": {
   "name": "python3",
   "display_name": "Python 3.9.1 64-bit"
  },
  "interpreter": {
   "hash": "aee8b7b246df8f9039afb4144a1f6fd8d2ca17a180786b69acc140d282b71a49"
  }
 },
 "nbformat": 4,
 "nbformat_minor": 2
}