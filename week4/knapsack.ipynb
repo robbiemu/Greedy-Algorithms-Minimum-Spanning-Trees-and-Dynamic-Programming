{
 "cells": [
  {
   "cell_type": "code",
   "execution_count": 1,
   "source": [
    "import sys\n",
    "sys.path.append('.')\n",
    "sys.path.append('..')\n",
    "from problem_loader import ProblemLoader\n",
    "from helpers import obfuscate\n",
    "\n",
    "data_urls = {\n",
    "    'problem1': 'https://d18ky98rnyall9.cloudfront.net/_6dfda29c18c77fd14511ba8964c2e265_knapsack1.txt?Expires=1628985600&Signature=k-eIsZc9GtX5yzAVlwKTfQMgsUDnI~xbkalhKbeK8KywM-fGsBYZI7us4rernHZJPm~K91zs0ihN3qTFfwp-lkEreNB7MfTIHSzENtqmEIhTVqKAHl77P8Fiuw7ooqDvVpNVBGp30bptiF8GoSy01Y5UlY5Z7AHJ1UrX0Sa0Hhg_&Key-Pair-Id=APKAJLTNE6QMUY6HBC5A',\n",
    "    'problem2': 'https://d18ky98rnyall9.cloudfront.net/_6dfda29c18c77fd14511ba8964c2e265_knapsack_big.txt?Expires=1629072000&Signature=Ut7vbr2sDSmQ8Ys8h31shBrJ-iY0ZqhSYvS1hcCH3xuOR75Pc9hL6h1Vr47OalZc9~iVRxR50Q89R83NYUYxqTHH~iUAOLnzWUcYINeC7sZjKP5YG-hOA-TvT5ELoW9REsuRIpD4zWVB2Aw2B2Wnnl07m9vRv6pIzqHT1h7UWoY_&Key-Pair-Id=APKAJLTNE6QMUY6HBC5A'\n",
    "}"
   ],
   "outputs": [],
   "metadata": {}
  },
  {
   "cell_type": "markdown",
   "source": [
    "# Problem 1\n",
    "\n",
    "In this programming problem and the next you'll code up the knapsack algorithm from lecture.\n",
    "\n",
    "Let's start with a warm-up.\n",
    "\n",
    "This file describes a knapsack instance, and it has the following format:\n",
    "\n",
    "[knapsack_size][number_of_items]\n",
    "\n",
    "[value_1] [weight_1]\n",
    "\n",
    "[value_2] [weight_2]\n",
    "\n",
    "...\n",
    "\n",
    "For example, the third line of the file is \"50074 659\", indicating that the second item has value $50074$ and size $659$, respectively.\n",
    "\n",
    "You can assume that all numbers are positive.  You should assume that item weights and the knapsack capacity are integers.\n",
    "\n",
    "### ADVICE: \n",
    "If you're not getting the correct answer, try debugging your algorithm using some small test cases. And then post them to the discussion forum!"
   ],
   "metadata": {}
  },
  {
   "cell_type": "code",
   "execution_count": 2,
   "source": [
    "from math import inf\n",
    "from collections import namedtuple\n",
    "\n",
    "WeightedItem = namedtuple('WeightedItem', ['value', 'weight'])\n",
    "\n",
    "def process_weighted_items(data):\n",
    "  items = {}\n",
    "  items['v'] = []\n",
    "  first_line = True\n",
    "  for item in data.split(b'\\n'):\n",
    "    sa = item.decode('utf-8').split(' ')\n",
    "    if first_line:\n",
    "      items['C'] = int(sa[0])\n",
    "      first_line = False\n",
    "      continue\n",
    "    if len(sa) == 2:\n",
    "      items['v'].append(WeightedItem(value=int(sa[0]), weight=int(sa[1])))\n",
    "  return items\n",
    "\n",
    "items = ProblemLoader(\n",
    "    data_urls['problem1'], \n",
    "    fname=\"warmup.p\", \n",
    "    preprocessor=process_weighted_items,\n",
    ").fetch(clear=True)\n",
    "values = items['v']\n",
    "C = items['C']\n",
    "print(C, values[:10])"
   ],
   "outputs": [
    {
     "output_type": "stream",
     "name": "stdout",
     "text": [
      "10000 [WeightedItem(value=16808, weight=250), WeightedItem(value=50074, weight=659), WeightedItem(value=8931, weight=273), WeightedItem(value=27545, weight=879), WeightedItem(value=77924, weight=710), WeightedItem(value=64441, weight=166), WeightedItem(value=84493, weight=43), WeightedItem(value=7988, weight=504), WeightedItem(value=82328, weight=730), WeightedItem(value=78841, weight=613)]\n"
     ]
    }
   ],
   "metadata": {}
  },
  {
   "cell_type": "markdown",
   "source": [
    "## Knapsack  \n",
    "\n",
    "### Input: \n",
    "item values $v_1,...,v_n$, item sizes $s_1,...,s_n$, and  a knapsack capacity $C$ (all positive integers).  \n",
    "\n",
    "### Output: \n",
    "the maximum total value of a subset  $S \\subseteq {1, 2,...,n}$ with $\\sum_{i \\in S} s_i \\leqslant C$.  \n",
    "\n",
    "`// subproblem solutions (indexed from 0)`  \n",
    "$A$ := $(n + 1) \\times (C + 1)$ two-dimensional array  \n",
    "`// base case (i = 0)`  \n",
    "for $c = 0$ to $C$ do  \n",
    "&nbsp;  $A[0][c] = 0$  \n",
    "`// systematically solve all subproblems`  \n",
    "for $i = 1$ to $n$ do  \n",
    "&nbsp;  for $c = 0$ to $C$ do  \n",
    "`// use recurrence`  \n",
    "&nbsp;&nbsp;  if $s_i > c$ then  \n",
    "&nbsp;&nbsp;&nbsp;  $A[i][c] := A[i - 1][c]$  \n",
    "&nbsp;&nbsp;  else  \n",
    "&nbsp;&nbsp;&nbsp;  $A[i][c] :=  max{\\underbrace{A[i - 1][c]}_{\\textrm{Case 1}}, \\underbrace{A[i - 1][c - s_i] + v_i}_{\\textrm{Case 2}}}$  \n",
    "return $A[n][C]$ `// solution to largest subproblem`"
   ],
   "metadata": {}
  },
  {
   "cell_type": "code",
   "execution_count": 3,
   "source": [
    "A = []\n",
    "for c in range(C):\n",
    "  A.append([None] * C)\n",
    "  A[0][C - 1] = 0\n",
    "\n",
    "n = len(values)\n",
    "\n",
    "for i in range(n):\n",
    "  for c in range(C):\n",
    "    if  values[i].weight > c:\n",
    "      A[i][c] = A[i-1][c] or 0\n",
    "    else:\n",
    "      case_1 = A[i-1][c] or 0\n",
    "      case_2 = A[i-1][c-values[i].weight] or 0\n",
    "      case_2 += values[i].value\n",
    "      A[i][c] = max(case_1, case_2)\n",
    "\n",
    "obfuscate(A[n - 1][C - 1])"
   ],
   "outputs": [],
   "metadata": {}
  },
  {
   "cell_type": "markdown",
   "source": [
    "# Problem 2\n",
    "\n",
    "This problem also asks you to solve a knapsack instance, but a much bigger one. \n",
    "\n",
    "This file describes a knapsack instance, and it has the following format:\n",
    "\n",
    "[knapsack_size][number_of_items]\n",
    "\n",
    "[value_1] [weight_1]\n",
    "\n",
    "[value_2] [weight_2]\n",
    "\n",
    "...\n",
    "\n",
    "For example, the third line of the file is \"50074 834558\", indicating that the second item has value 50074 and size 834558, respectively.  As before, you should assume that item weights and the knapsack capacity are integers.\n",
    "\n",
    "This instance is so big that the straightforward iterative implemetation uses an infeasible amount of time and space.  So you will have to be creative to compute an optimal solution.  One idea is to go back to a recursive implementation, solving subproblems --- and, of course, caching the results to avoid redundant work --- only on an \"as needed\" basis.  Also, be sure to think about appropriate data structures for storing and looking up solutions to subproblems.\n",
    "\n",
    "### ADVICE: \n",
    "If you're not getting the correct answer, try debugging your algorithm using some small test cases. And then post them to the discussion forum!"
   ],
   "metadata": {}
  },
  {
   "cell_type": "code",
   "execution_count": 4,
   "source": [
    "items = ProblemLoader(\n",
    "    data_urls['problem2'], \n",
    "    fname=\"q2.p\", \n",
    "    preprocessor=process_weighted_items,\n",
    ").fetch()\n",
    "values = items['v']\n",
    "C = items['C']\n",
    "print(C, values[:10])"
   ],
   "outputs": [
    {
     "output_type": "stream",
     "name": "stdout",
     "text": [
      "2000000 [WeightedItem(value=16808, weight=241486), WeightedItem(value=50074, weight=834558), WeightedItem(value=8931, weight=738037), WeightedItem(value=27545, weight=212860), WeightedItem(value=77924, weight=494349), WeightedItem(value=64441, weight=815107), WeightedItem(value=84493, weight=723724), WeightedItem(value=7988, weight=421316), WeightedItem(value=82328, weight=652893), WeightedItem(value=78841, weight=402599)]\n"
     ]
    }
   ],
   "metadata": {}
  },
  {
   "cell_type": "markdown",
   "source": [
    "I feel like this was suggested, but it is $O(2^n)$\n",
    "\n",
    "$n$ values\n",
    "$n$ weights\n",
    "\n",
    "we can use recursion\n",
    "- $A$ weight and value array\n",
    "- $W$ current weight to solve\n",
    "- $i$ index in array to consider\n",
    "\n",
    "for $i$ in $f_{\\textrm{last index}}(A)$ ..0:\n",
    "  - if $f_{\\textrm{weight}}(A[i])  > W$ `// skip it`  \n",
    "      return $f_{\\textrm{recurse}}(A, W, i - 1))$\n",
    "  - else `// either this weight should be included, or not.`\n",
    "    - return $f_{\\textrm{max total value}}($\n",
    "      $$f_{\\textrm{recurse}}(A, W - f_{\\textrm{weight}}(A[i]), i - 1),$$\n",
    "      $$f_{\\textrm{recurse}}(A, W, i - 1))$$"
   ],
   "metadata": {}
  },
  {
   "cell_type": "code",
   "execution_count": 5,
   "source": [
    "from functools import cache as memoize\n",
    "\n",
    "def recurse_knapsack(A, W, i):\n",
    "  @memoize\n",
    "  def recursive_knapsack(W,i):\n",
    "    nonlocal A\n",
    "    if i == 0 or W == 0:\n",
    "      return 0\n",
    "      \n",
    "    w = A[i].weight\n",
    "    if w > W:\n",
    "      case = recursive_knapsack(W, i - 1) or 0\n",
    "    else:\n",
    "      left = recursive_knapsack(W, i - 1) or 0\n",
    "      right = recursive_knapsack(W -  w, i -  1) or 0\n",
    "      right += A[i].value\n",
    "      case = max(left, right)\n",
    "    \n",
    "    return case\n",
    "    \n",
    "  return recursive_knapsack(W, i)\n"
   ],
   "outputs": [],
   "metadata": {}
  },
  {
   "cell_type": "code",
   "execution_count": 6,
   "source": [
    "from sys import setrecursionlimit\n",
    "setrecursionlimit(len(values) ** 2)\n",
    "\n",
    "obfuscate(recurse_knapsack(values, C, len(values) - 1))"
   ],
   "outputs": [],
   "metadata": {}
  },
  {
   "cell_type": "code",
   "execution_count": 7,
   "source": [
    "A = [0] * C\n",
    "\n",
    "n = len(values)\n",
    "\n",
    "if False: # this takes considerably longer, not benefitting from memoization\n",
    "  for i in range(n):\n",
    "    B = [0] * C\n",
    "    for c in range(C):\n",
    "      if  values[i].weight > c:\n",
    "        B[c] = A[c]\n",
    "      else:\n",
    "        case_1 = A[c] or 0\n",
    "        case_2 = A[c-values[i].weight] or 0\n",
    "        case_2 += values[i].value\n",
    "        B[c] = max(case_1, case_2)\n",
    "    A = B\n",
    "\n",
    "  print(A[C - 1])"
   ],
   "outputs": [],
   "metadata": {}
  }
 ],
 "metadata": {
  "orig_nbformat": 4,
  "language_info": {
   "name": "python",
   "version": "3.9.1",
   "mimetype": "text/x-python",
   "codemirror_mode": {
    "name": "ipython",
    "version": 3
   },
   "pygments_lexer": "ipython3",
   "nbconvert_exporter": "python",
   "file_extension": ".py"
  },
  "kernelspec": {
   "name": "python3",
   "display_name": "Python 3.9.1 64-bit"
  },
  "interpreter": {
   "hash": "aee8b7b246df8f9039afb4144a1f6fd8d2ca17a180786b69acc140d282b71a49"
  }
 },
 "nbformat": 4,
 "nbformat_minor": 2
}