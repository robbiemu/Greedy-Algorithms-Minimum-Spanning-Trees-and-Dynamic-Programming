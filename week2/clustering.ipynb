{
 "cells": [
  {
   "cell_type": "code",
   "execution_count": 1,
   "source": [
    "import sys\n",
    "sys.path.append('.')\n",
    "sys.path.append('..')\n",
    "from problem_loader import ProblemLoader\n",
    "\n",
    "data_urls = {\n",
    "    'problem1': 'https://d18ky98rnyall9.cloudfront.net/_fe8d0202cd20a808db6a4d5d06be62f4_clustering1.txt?Expires=1625961600&Signature=HM33xWd1vNYzke9ri~OBn-cBif-ezXnyGgNjFA4fmSj3iV54RB2VkM4sgc~Fq0~9H6-564AearxvgEQQUw2eErmoG92sp~SpFo8H7xUzxQvgZp0gWrOzUg0eEO2CNEpkJiMeWvr6x5SxUqYDb9i8-PEoHu11NAwdYtvoJHTP7hc_&Key-Pair-Id=APKAJLTNE6QMUY6HBC5A',\n",
    "    'problem2': 'https://d18ky98rnyall9.cloudfront.net/_fe8d0202cd20a808db6a4d5d06be62f4_clustering_big.txt?Expires=1626998400&Signature=I8EperrYsjtCtEPVqS1B0W9V7ykOER5VsaYG7Xug5hclTKrqzaMKvlLVjBxHbUyGsIR-tD4kgw39e55q799aW3u8dEstSxeKY2H3MK5PfALsz10lZPsvx9APjHHzi9MJIC8K1cZHSSmBA6tNkzlj7yn6CJuoqEJDgqS9TrQXNfo_&Key-Pair-Id=APKAJLTNE6QMUY6HBC5A',\n",
    "}"
   ],
   "outputs": [],
   "metadata": {}
  },
  {
   "cell_type": "markdown",
   "source": [
    "## Problem 1\n",
    "In this programming problem and the next you'll code up the clustering algorithm from lecture for computing a max-spacing $k$-clustering.\n",
    "\n",
    "This file describes a distance function (equivalently, a complete graph with edge costs).  It has the following format:\n",
    "\n",
    "[number_of_nodes]\n",
    "\n",
    "[edge 1 node 1] [edge 1 node 2] [edge 1 cost]\n",
    "\n",
    "[edge 2 node 1] [edge 2 node 2] [edge 2 cost]\n",
    "\n",
    "...\n",
    "\n",
    "There is one edge $(i,j)$ for each choice of $1 \\leq i \\lt j \\leq n$, where $n$ is the number of nodes.\n",
    "\n",
    "For example, the third line of the file is \"1 3 5250\", indicating that the distance between nodes 1 and 3 (equivalently, the cost of the edge $(1,3)$) is 5250.  You can assume that distances are positive, but you should NOT assume that they are distinct.\n",
    "\n",
    "Your task in this problem is to run the clustering algorithm from lecture on this data set, where the target number $k$ of clusters is set to $4$.  What is the maximum spacing of a 4-clustering?"
   ],
   "metadata": {}
  },
  {
   "cell_type": "code",
   "execution_count": 2,
   "source": [
    "from helpers import Edge, flatten, process_weighted_edges, undirected_graph_of_weighted_edges\n",
    "\n",
    "values = ProblemLoader(\n",
    "    data_urls['problem1'], \n",
    "    fname=\"weighted-graph.p\", \n",
    "    preprocessor=process_weighted_edges\n",
    ").fetch()\n",
    "print(values[:10])"
   ],
   "outputs": [
    {
     "output_type": "stream",
     "name": "stdout",
     "text": [
      "[Edge(left=1, right=2, cost=6808), Edge(left=1, right=3, cost=5250), Edge(left=1, right=4, cost=74), Edge(left=1, right=5, cost=3659), Edge(left=1, right=6, cost=8931), Edge(left=1, right=7, cost=1273), Edge(left=1, right=8, cost=7545), Edge(left=1, right=9, cost=879), Edge(left=1, right=10, cost=7924), Edge(left=1, right=11, cost=7710)]\n"
     ]
    }
   ],
   "metadata": {}
  },
  {
   "cell_type": "markdown",
   "source": [
    "### Kruskal (Union-Find-Based)  \n",
    "\n",
    "#### Input: \n",
    "connected undirected graph G = (V,E) in  adjacency-list representation and a cost ce for each  edge e 2 E.  \n",
    "#### Output: \n",
    "the edges of a minimum spanning tree of G.  \n",
    "\n",
    "`// Initialization`  \n",
    "$T := \\empty$  \n",
    "$U := Initialize(V)$ `// union-find data structure`  \n",
    "sort edges of $E$ by cost `// e.g., using MergeSort`  \n",
    "`// Main loop  `\n",
    "for each $(v, w) \\in E$, in nondecreasing order of cost do  \n",
    "&nbsp;  if $Find(U, v) \\neq Find(U, w)$ then  \n",
    "&nbsp;&nbsp;    `// no v-w path in T, so OK to add (v, w)`  \n",
    "&nbsp;&nbsp;    $T := T \\bigcup {(v, w)}$  \n",
    "&nbsp;&nbsp;    `// update due to component fusion` \n",
    "&nbsp;&nbsp;    $Union(U, v, w)$  \n",
    "return $T$ "
   ],
   "metadata": {}
  },
  {
   "cell_type": "code",
   "execution_count": 3,
   "source": [
    "from deehzee_unionfind import UnionFind\n",
    "\n",
    "def Kruskal_MST(graph):\n",
    "  T = set()\n",
    "  U = UnionFind(graph.keys()) # vertices\n",
    "  E = [ Edge(left=key, right=edge.to, cost=edge.cost) \n",
    "    for key, edge_list in graph.items() \n",
    "      for edge in edge_list ]\n",
    "  E.sort(key=lambda x: x.cost)\n",
    "  for edge in E:\n",
    "    if U.find(edge.left) != U.find(edge.right):\n",
    "      T.add(edge)\n",
    "      U.union(edge.left, edge.right)\n",
    "  return T\n"
   ],
   "outputs": [],
   "metadata": {}
  },
  {
   "cell_type": "markdown",
   "source": [
    "### approach\n",
    "\n",
    "#### Bottom-Up Clustering \n",
    "\n",
    "#### Input: \n",
    "----\n",
    "a set $X$ of data points, a symmetric similarity function $f$, and a positive integer $k \\in {1, 2, 3,..., |X|}$.  \n",
    "#### Output: \n",
    "----\n",
    "a partition of $X$ into $k$ non-empty sets.  \n",
    "\n",
    "$C := \\empty$ `// keeps track of current clusters`  \n",
    "for each $x \\in X$ do  \n",
    "&nbsp;  add ${x}$ to $C$ `// each point in own cluster`  \n",
    "`// Main loop`  \n",
    "while $C$ contains more than $k$ clusters do  \n",
    "&nbsp;  remove from $C$ the clusters $S1, S2$ that minimize  $F(S1, S2)$ `// e.g., satisfying` $\\color{darkred}F(S1, S2) = \\min\\limits_{x \\in S_1,y \\in S_2} f(x, y)$.  \n",
    "&nbsp;  add $S1 \\bigcup S2$ to $C$ `// merge clusters`  \n",
    "return $C$ \n",
    "\n"
   ],
   "metadata": {}
  },
  {
   "cell_type": "code",
   "execution_count": 4,
   "source": [
    "from math import inf\n",
    "\n",
    "def one(X, k=inf, E=None):\n",
    "  U = UnionFind(list(X.keys())) # vertices\n",
    "  if E is None:\n",
    "    E = [ Edge(left=key, right=edge.to, cost=edge.cost) \n",
    "      for key, edge_list in X.items() \n",
    "        for edge in edge_list ]\n",
    "  E.sort(key=lambda x: x.cost)\n",
    "  \n",
    "  for edge in E:\n",
    "    #print(edge, U.components())\n",
    "    if U.find(edge.left) != U.find(edge.right):\n",
    "      if U.n_comps == k:\n",
    "        #print(\"k found\", edge, U.components())\n",
    "        return edge.cost\n",
    "      U.union(edge.left, edge.right)\n",
    "\n",
    "  return inf"
   ],
   "outputs": [],
   "metadata": {}
  },
  {
   "cell_type": "code",
   "execution_count": 5,
   "source": [
    "__test__ = False\n",
    "if not __test__:\n",
    "  graph = undirected_graph_of_weighted_edges(values)\n",
    "  print(one(graph, k=4))\n",
    "else:\n",
    "  v_test = process_weighted_edges(\"\"\"\n",
    "1 2 1\n",
    "1 3 4\n",
    "1 4 5\n",
    "1 5 10\n",
    "1 6 11\n",
    "1 7 12\n",
    "2 3 3\n",
    "2 4 4\n",
    "2 5 9\n",
    "2 6 10\n",
    "2 7 11\n",
    "3 4 1\n",
    "3 5 6\n",
    "3 6 7\n",
    "3 7 8\n",
    "4 5 5\n",
    "4 6 6\n",
    "4 7 7\n",
    "5 6 1\n",
    "5 7 2\n",
    "6 7 1\"\"\".encode('utf-8'))\n",
    "  g_test = undirected_graph_of_weighted_edges(v_test)\n",
    "  k3 = one(g_test, k=3, E=v_test)\n",
    "  assert k3 == 3, f\"k3 is {k3} not 3\"\n",
    "  k2 = one(g_test, k=2, E=v_test)\n",
    "  assert k2 == 5, \"k2 is {k2} not 5\"\n"
   ],
   "outputs": [
    {
     "output_type": "stream",
     "name": "stdout",
     "text": [
      "106\n"
     ]
    }
   ],
   "metadata": {}
  },
  {
   "cell_type": "markdown",
   "source": [
    "## Problem 2\n",
    "In this question your task is again to run the clustering algorithm from lecture, but on a MUCH bigger graph.  So big, in fact, that the distances (i.e., edge costs) are only defined implicitly, rather than being provided as an explicit list.\n",
    "\n",
    "The format is:\n",
    "\n",
    "[# of nodes] [# of bits for each node's label]\n",
    "\n",
    "[first bit of node 1] ... [last bit of node 1]\n",
    "\n",
    "[first bit of node 2] ... [last bit of node 2]\n",
    "\n",
    "...\n",
    "\n",
    "For example, the third line of the file \"0 1 1 0 0 1 1 0 0 1 0 1 1 1 1 1 1 0 1 0 1 1 0 1\" denotes the 24 bits associated with node #2.\n",
    "\n",
    "The distance between two nodes $u$ and $v$ in this problem is defined as the Hamming distance – the number of differing bits – between the two nodes' labels.  For example, the Hamming distance between the 24-bit label of node #2 above and the label \"0 1 0 0 0 1 0 0 0 1 0 1 1 1 1 1 1 0 1 0 0 1 0 1\" is $3$ (since they differ in the 3rd, 7th, and 21st bits).\n",
    "\n",
    "The question is: what is the largest value of $k$ such that there is a $k$-clustering with spacing at least $3$?  That is, how many clusters are needed to ensure that no pair of nodes with all but 2 bits in common get split into different clusters?\n",
    "\n",
    "### NOTE: \n",
    "The graph implicitly defined by the data file is so big that you probably can't write it out explicitly, let alone sort the edges by cost.  So you will have to be a little creative to complete this part of the question.  For example, is there some way you can identify the smallest distances without explicitly looking at every pair of nodes?"
   ],
   "metadata": {}
  },
  {
   "cell_type": "code",
   "execution_count": 6,
   "source": [
    "from collections import defaultdict    \n",
    "\n",
    "def process_hamming_codes(data):\n",
    "    \"\"\"decode the bytes to string. read all lines and convert the bit strings to integers.\"\"\"\n",
    "    hamming_codes = []\n",
    "    for line in data.decode('utf-8').split('\\n'):\n",
    "        if len(line.split()) > 2:\n",
    "            hamming_codes.append(int(line.replace(' ', ''), base=2))\n",
    "        else:\n",
    "            #print('tossing metadata', line)\n",
    "            pass\n",
    "\n",
    "    \"\"\"convert hamming_codes to a dict by keys.\"\"\"\n",
    "    h = defaultdict(list)\n",
    "    for i in range(len(hamming_codes)):\n",
    "        h[hamming_codes[i]].append(i)\n",
    "\n",
    "    return h\n",
    "\n",
    "values = ProblemLoader(\n",
    "    data_urls['problem2'], \n",
    "    fname=\"hamming.p\", \n",
    "    preprocessor=process_hamming_codes\n",
    ").fetch()\n",
    "print(list(values.items())[:10])"
   ],
   "outputs": [
    {
     "output_type": "stream",
     "name": "stdout",
     "text": [
      "[(14734287, [0]), (6709165, [1]), (7344869, [2]), (15449752, [3]), (5157860, [4]), (4854709, [5]), (1628832, [6]), (556504, [7]), (15091705, [8]), (8049727, [9])]\n"
     ]
    }
   ],
   "metadata": {}
  },
  {
   "cell_type": "code",
   "execution_count": 8,
   "source": [
    "\n",
    "  import itertools\n",
    "    from operator import xor\n",
    "\n",
    "n_bits = 24\n",
    "\n",
    "graph = dict(values)\n",
    "vertices =  list(graph.keys())\n",
    "U = UnionFind(vertices)\n",
    "shifts = [1 << i for i in range(n_bits)]\n",
    "#shifts.insert(0,0)\n",
    "for x,y in itertools.combinations(list(range(n_bits)), 2):\n",
    "  a = 1 << x\n",
    "  b = 1 << y\n",
    "  shifts.append(xor(a,b))\n",
    "\n",
    "    #print(len(shifts)) \n",
    "\n",
    "for distance in vertices:\n",
    "  for mask in shifts:\n",
    "    b = xor(distance, mask)\n",
    "\n",
    "    if b in graph and U.find(b) != U.find(distance):\n",
    "      U.union(b, distance)\n",
    "\n",
    "print(U.n_comps)"
   ],
   "outputs": [
    {
     "output_type": "stream",
     "name": "stdout",
     "text": [
      "6118\n"
     ]
    }
   ],
   "metadata": {}
  }
 ],
 "metadata": {
  "orig_nbformat": 4,
  "language_info": {
   "name": "python",
   "version": "3.9.1",
   "mimetype": "text/x-python",
   "codemirror_mode": {
    "name": "ipython",
    "version": 3
   },
   "pygments_lexer": "ipython3",
   "nbconvert_exporter": "python",
   "file_extension": ".py"
  },
  "kernelspec": {
   "name": "python3",
   "display_name": "Python 3.9.1 64-bit"
  },
  "interpreter": {
   "hash": "a8e73444cd85779debfbed2ff850992c15fb63378866812fd7bb614c3cbdab4a"
  }
 },
 "nbformat": 4,
 "nbformat_minor": 2
}